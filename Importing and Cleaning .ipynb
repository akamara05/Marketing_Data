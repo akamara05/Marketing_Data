{
 "cells": [
  {
   "cell_type": "markdown",
   "id": "60857162",
   "metadata": {},
   "source": [
    "### Marketing Dataset Analysis"
   ]
  },
  {
   "cell_type": "markdown",
   "id": "9d29ff4d",
   "metadata": {},
   "source": [
    "### Part 1: Data Importing & Cleaning "
   ]
  },
  {
   "cell_type": "markdown",
   "id": "598c33db",
   "metadata": {},
   "source": [
    "__Data Importing and Pre-processing__"
   ]
  },
  {
   "cell_type": "code",
   "execution_count": 1,
   "id": "747bfa06",
   "metadata": {},
   "outputs": [],
   "source": [
    "import pandas as pd\n",
    "import numpy as np\n",
    "from matplotlib import pyplot as plt\n",
    "import seaborn as sns"
   ]
  },
  {
   "cell_type": "markdown",
   "id": "8b5378cd",
   "metadata": {},
   "source": [
    "__Reading Data__"
   ]
  },
  {
   "cell_type": "markdown",
   "id": "8a642e39",
   "metadata": {},
   "source": [
    "The dataset was provided as an excel file. I saved it as a CSV in order to read into jupyter notebook to perform preprocessing, exploratory data analysis, and data visualizations. "
   ]
  },
  {
   "cell_type": "code",
   "execution_count": 2,
   "id": "a5907be8",
   "metadata": {},
   "outputs": [
    {
     "data": {
      "text/html": [
       "<div>\n",
       "<style scoped>\n",
       "    .dataframe tbody tr th:only-of-type {\n",
       "        vertical-align: middle;\n",
       "    }\n",
       "\n",
       "    .dataframe tbody tr th {\n",
       "        vertical-align: top;\n",
       "    }\n",
       "\n",
       "    .dataframe thead th {\n",
       "        text-align: right;\n",
       "    }\n",
       "</style>\n",
       "<table border=\"1\" class=\"dataframe\">\n",
       "  <thead>\n",
       "    <tr style=\"text-align: right;\">\n",
       "      <th></th>\n",
       "      <th>Month</th>\n",
       "      <th>State</th>\n",
       "      <th>Brand</th>\n",
       "      <th>Customers</th>\n",
       "      <th>Value</th>\n",
       "      <th>Age Group</th>\n",
       "      <th>Gender</th>\n",
       "      <th>VIP Band</th>\n",
       "    </tr>\n",
       "  </thead>\n",
       "  <tbody>\n",
       "    <tr>\n",
       "      <th>0</th>\n",
       "      <td>Jul-19</td>\n",
       "      <td>SA</td>\n",
       "      <td>Apple</td>\n",
       "      <td>256</td>\n",
       "      <td>50,623</td>\n",
       "      <td>18-24</td>\n",
       "      <td>F</td>\n",
       "      <td>Group A</td>\n",
       "    </tr>\n",
       "    <tr>\n",
       "      <th>1</th>\n",
       "      <td>Jul-19</td>\n",
       "      <td>SA</td>\n",
       "      <td>Apple</td>\n",
       "      <td>147</td>\n",
       "      <td>34,629</td>\n",
       "      <td>18-24</td>\n",
       "      <td>F</td>\n",
       "      <td>Group B</td>\n",
       "    </tr>\n",
       "    <tr>\n",
       "      <th>2</th>\n",
       "      <td>Jul-19</td>\n",
       "      <td>SA</td>\n",
       "      <td>Apple</td>\n",
       "      <td>36</td>\n",
       "      <td>85,034</td>\n",
       "      <td>18-24</td>\n",
       "      <td>F</td>\n",
       "      <td>Group C</td>\n",
       "    </tr>\n",
       "    <tr>\n",
       "      <th>3</th>\n",
       "      <td>Jul-19</td>\n",
       "      <td>SA</td>\n",
       "      <td>Apple</td>\n",
       "      <td>109</td>\n",
       "      <td>220,479</td>\n",
       "      <td>18-24</td>\n",
       "      <td>F</td>\n",
       "      <td>Group D</td>\n",
       "    </tr>\n",
       "    <tr>\n",
       "      <th>4</th>\n",
       "      <td>Jul-19</td>\n",
       "      <td>SA</td>\n",
       "      <td>Apple</td>\n",
       "      <td>52</td>\n",
       "      <td>15,644</td>\n",
       "      <td>18-24</td>\n",
       "      <td>M</td>\n",
       "      <td>Group A</td>\n",
       "    </tr>\n",
       "  </tbody>\n",
       "</table>\n",
       "</div>"
      ],
      "text/plain": [
       "    Month State  Brand Customers    Value Age Group Gender VIP Band\n",
       "0  Jul-19    SA  Apple       256   50,623     18-24      F  Group A\n",
       "1  Jul-19    SA  Apple       147   34,629     18-24      F  Group B\n",
       "2  Jul-19    SA  Apple        36   85,034     18-24      F  Group C\n",
       "3  Jul-19    SA  Apple       109  220,479     18-24      F  Group D\n",
       "4  Jul-19    SA  Apple        52   15,644     18-24      M  Group A"
      ]
     },
     "execution_count": 2,
     "metadata": {},
     "output_type": "execute_result"
    }
   ],
   "source": [
    "df = pd.read_csv('./data/Data_Analysis_Exercise.csv')\n",
    "df.head()"
   ]
  },
  {
   "cell_type": "markdown",
   "id": "b1321dd6",
   "metadata": {},
   "source": [
    "__Brief overview of observations__"
   ]
  },
  {
   "cell_type": "code",
   "execution_count": 3,
   "id": "506df4d1",
   "metadata": {},
   "outputs": [
    {
     "data": {
      "text/plain": [
       "(47200, 8)"
      ]
     },
     "execution_count": 3,
     "metadata": {},
     "output_type": "execute_result"
    }
   ],
   "source": [
    "df.shape"
   ]
  },
  {
   "cell_type": "markdown",
   "id": "0b5c18bf",
   "metadata": {},
   "source": [
    "<span style=\"color: blue\"> 47,200 observations and 8 features. "
   ]
  },
  {
   "cell_type": "code",
   "execution_count": 4,
   "id": "28f7650e",
   "metadata": {},
   "outputs": [
    {
     "data": {
      "text/plain": [
       "Month        object\n",
       "State        object\n",
       "Brand        object\n",
       "Customers    object\n",
       "Value        object\n",
       "Age Group    object\n",
       "Gender       object\n",
       "VIP Band     object\n",
       "dtype: object"
      ]
     },
     "execution_count": 4,
     "metadata": {},
     "output_type": "execute_result"
    }
   ],
   "source": [
    "df.dtypes"
   ]
  },
  {
   "cell_type": "markdown",
   "id": "4f6642fc",
   "metadata": {},
   "source": [
    "__Updates to column headers__"
   ]
  },
  {
   "cell_type": "code",
   "execution_count": 5,
   "id": "7a8abd8e",
   "metadata": {},
   "outputs": [],
   "source": [
    "df.columns = [column.replace (' ','_') for column in df.columns]"
   ]
  },
  {
   "cell_type": "code",
   "execution_count": 6,
   "id": "ce6e7d68",
   "metadata": {},
   "outputs": [],
   "source": [
    "#lower casing\n",
    "df.columns = [column.lower() for column in df.columns]"
   ]
  },
  {
   "cell_type": "code",
   "execution_count": 7,
   "id": "302fa9ef",
   "metadata": {},
   "outputs": [
    {
     "data": {
      "text/html": [
       "<div>\n",
       "<style scoped>\n",
       "    .dataframe tbody tr th:only-of-type {\n",
       "        vertical-align: middle;\n",
       "    }\n",
       "\n",
       "    .dataframe tbody tr th {\n",
       "        vertical-align: top;\n",
       "    }\n",
       "\n",
       "    .dataframe thead th {\n",
       "        text-align: right;\n",
       "    }\n",
       "</style>\n",
       "<table border=\"1\" class=\"dataframe\">\n",
       "  <thead>\n",
       "    <tr style=\"text-align: right;\">\n",
       "      <th></th>\n",
       "      <th>month</th>\n",
       "      <th>state</th>\n",
       "      <th>brand</th>\n",
       "      <th>customers</th>\n",
       "      <th>value</th>\n",
       "      <th>age_group</th>\n",
       "      <th>gender</th>\n",
       "      <th>vip_band</th>\n",
       "    </tr>\n",
       "  </thead>\n",
       "  <tbody>\n",
       "    <tr>\n",
       "      <th>0</th>\n",
       "      <td>Jul-19</td>\n",
       "      <td>SA</td>\n",
       "      <td>Apple</td>\n",
       "      <td>256</td>\n",
       "      <td>50,623</td>\n",
       "      <td>18-24</td>\n",
       "      <td>F</td>\n",
       "      <td>Group A</td>\n",
       "    </tr>\n",
       "    <tr>\n",
       "      <th>1</th>\n",
       "      <td>Jul-19</td>\n",
       "      <td>SA</td>\n",
       "      <td>Apple</td>\n",
       "      <td>147</td>\n",
       "      <td>34,629</td>\n",
       "      <td>18-24</td>\n",
       "      <td>F</td>\n",
       "      <td>Group B</td>\n",
       "    </tr>\n",
       "    <tr>\n",
       "      <th>2</th>\n",
       "      <td>Jul-19</td>\n",
       "      <td>SA</td>\n",
       "      <td>Apple</td>\n",
       "      <td>36</td>\n",
       "      <td>85,034</td>\n",
       "      <td>18-24</td>\n",
       "      <td>F</td>\n",
       "      <td>Group C</td>\n",
       "    </tr>\n",
       "    <tr>\n",
       "      <th>3</th>\n",
       "      <td>Jul-19</td>\n",
       "      <td>SA</td>\n",
       "      <td>Apple</td>\n",
       "      <td>109</td>\n",
       "      <td>220,479</td>\n",
       "      <td>18-24</td>\n",
       "      <td>F</td>\n",
       "      <td>Group D</td>\n",
       "    </tr>\n",
       "    <tr>\n",
       "      <th>4</th>\n",
       "      <td>Jul-19</td>\n",
       "      <td>SA</td>\n",
       "      <td>Apple</td>\n",
       "      <td>52</td>\n",
       "      <td>15,644</td>\n",
       "      <td>18-24</td>\n",
       "      <td>M</td>\n",
       "      <td>Group A</td>\n",
       "    </tr>\n",
       "  </tbody>\n",
       "</table>\n",
       "</div>"
      ],
      "text/plain": [
       "    month state  brand customers    value age_group gender vip_band\n",
       "0  Jul-19    SA  Apple       256   50,623     18-24      F  Group A\n",
       "1  Jul-19    SA  Apple       147   34,629     18-24      F  Group B\n",
       "2  Jul-19    SA  Apple        36   85,034     18-24      F  Group C\n",
       "3  Jul-19    SA  Apple       109  220,479     18-24      F  Group D\n",
       "4  Jul-19    SA  Apple        52   15,644     18-24      M  Group A"
      ]
     },
     "execution_count": 7,
     "metadata": {},
     "output_type": "execute_result"
    }
   ],
   "source": [
    "df.head()"
   ]
  },
  {
   "cell_type": "markdown",
   "id": "c122af51",
   "metadata": {},
   "source": [
    "__Check for nulls__"
   ]
  },
  {
   "cell_type": "code",
   "execution_count": 8,
   "id": "e1163d54",
   "metadata": {},
   "outputs": [
    {
     "name": "stdout",
     "output_type": "stream",
     "text": [
      "<class 'pandas.core.frame.DataFrame'>\n",
      "RangeIndex: 47200 entries, 0 to 47199\n",
      "Data columns (total 8 columns):\n",
      " #   Column     Non-Null Count  Dtype \n",
      "---  ------     --------------  ----- \n",
      " 0   month      47200 non-null  object\n",
      " 1   state      47200 non-null  object\n",
      " 2   brand      47200 non-null  object\n",
      " 3   customers  47200 non-null  object\n",
      " 4   value      47200 non-null  object\n",
      " 5   age_group  47200 non-null  object\n",
      " 6   gender     47200 non-null  object\n",
      " 7   vip_band   47200 non-null  object\n",
      "dtypes: object(8)\n",
      "memory usage: 2.9+ MB\n"
     ]
    }
   ],
   "source": [
    "#List of all column data type and null values.\n",
    "df.info()"
   ]
  },
  {
   "cell_type": "code",
   "execution_count": 9,
   "id": "6da3c7dc",
   "metadata": {},
   "outputs": [
    {
     "data": {
      "text/plain": [
       "month        0\n",
       "state        0\n",
       "brand        0\n",
       "customers    0\n",
       "value        0\n",
       "age_group    0\n",
       "gender       0\n",
       "vip_band     0\n",
       "dtype: int64"
      ]
     },
     "execution_count": 9,
     "metadata": {},
     "output_type": "execute_result"
    }
   ],
   "source": [
    "#Sum of all null values for each feature\n",
    "df.isnull().sum()"
   ]
  },
  {
   "cell_type": "markdown",
   "id": "49ddefaa",
   "metadata": {},
   "source": [
    "__Seperated the month and year from the initial 'month' column for easier analysis.__"
   ]
  },
  {
   "cell_type": "code",
   "execution_count": 10,
   "id": "443c5e10",
   "metadata": {},
   "outputs": [],
   "source": [
    "#Seperating the month column\n",
    "df['months']= df['month'].str[0:3]"
   ]
  },
  {
   "cell_type": "code",
   "execution_count": 11,
   "id": "68b6350e",
   "metadata": {},
   "outputs": [],
   "source": [
    "#changing the positioning of the newly seperated column\n",
    "first_column = df.pop('months')"
   ]
  },
  {
   "cell_type": "code",
   "execution_count": 12,
   "id": "c5ca7d7b",
   "metadata": {},
   "outputs": [],
   "source": [
    "df.insert(0,'months',first_column)"
   ]
  },
  {
   "cell_type": "code",
   "execution_count": 13,
   "id": "be11e402",
   "metadata": {},
   "outputs": [
    {
     "data": {
      "text/html": [
       "<div>\n",
       "<style scoped>\n",
       "    .dataframe tbody tr th:only-of-type {\n",
       "        vertical-align: middle;\n",
       "    }\n",
       "\n",
       "    .dataframe tbody tr th {\n",
       "        vertical-align: top;\n",
       "    }\n",
       "\n",
       "    .dataframe thead th {\n",
       "        text-align: right;\n",
       "    }\n",
       "</style>\n",
       "<table border=\"1\" class=\"dataframe\">\n",
       "  <thead>\n",
       "    <tr style=\"text-align: right;\">\n",
       "      <th></th>\n",
       "      <th>months</th>\n",
       "      <th>month</th>\n",
       "      <th>state</th>\n",
       "      <th>brand</th>\n",
       "      <th>customers</th>\n",
       "      <th>value</th>\n",
       "      <th>age_group</th>\n",
       "      <th>gender</th>\n",
       "      <th>vip_band</th>\n",
       "    </tr>\n",
       "  </thead>\n",
       "  <tbody>\n",
       "    <tr>\n",
       "      <th>0</th>\n",
       "      <td>Jul</td>\n",
       "      <td>Jul-19</td>\n",
       "      <td>SA</td>\n",
       "      <td>Apple</td>\n",
       "      <td>256</td>\n",
       "      <td>50,623</td>\n",
       "      <td>18-24</td>\n",
       "      <td>F</td>\n",
       "      <td>Group A</td>\n",
       "    </tr>\n",
       "    <tr>\n",
       "      <th>1</th>\n",
       "      <td>Jul</td>\n",
       "      <td>Jul-19</td>\n",
       "      <td>SA</td>\n",
       "      <td>Apple</td>\n",
       "      <td>147</td>\n",
       "      <td>34,629</td>\n",
       "      <td>18-24</td>\n",
       "      <td>F</td>\n",
       "      <td>Group B</td>\n",
       "    </tr>\n",
       "    <tr>\n",
       "      <th>2</th>\n",
       "      <td>Jul</td>\n",
       "      <td>Jul-19</td>\n",
       "      <td>SA</td>\n",
       "      <td>Apple</td>\n",
       "      <td>36</td>\n",
       "      <td>85,034</td>\n",
       "      <td>18-24</td>\n",
       "      <td>F</td>\n",
       "      <td>Group C</td>\n",
       "    </tr>\n",
       "    <tr>\n",
       "      <th>3</th>\n",
       "      <td>Jul</td>\n",
       "      <td>Jul-19</td>\n",
       "      <td>SA</td>\n",
       "      <td>Apple</td>\n",
       "      <td>109</td>\n",
       "      <td>220,479</td>\n",
       "      <td>18-24</td>\n",
       "      <td>F</td>\n",
       "      <td>Group D</td>\n",
       "    </tr>\n",
       "    <tr>\n",
       "      <th>4</th>\n",
       "      <td>Jul</td>\n",
       "      <td>Jul-19</td>\n",
       "      <td>SA</td>\n",
       "      <td>Apple</td>\n",
       "      <td>52</td>\n",
       "      <td>15,644</td>\n",
       "      <td>18-24</td>\n",
       "      <td>M</td>\n",
       "      <td>Group A</td>\n",
       "    </tr>\n",
       "  </tbody>\n",
       "</table>\n",
       "</div>"
      ],
      "text/plain": [
       "  months   month state  brand customers    value age_group gender vip_band\n",
       "0    Jul  Jul-19    SA  Apple       256   50,623     18-24      F  Group A\n",
       "1    Jul  Jul-19    SA  Apple       147   34,629     18-24      F  Group B\n",
       "2    Jul  Jul-19    SA  Apple        36   85,034     18-24      F  Group C\n",
       "3    Jul  Jul-19    SA  Apple       109  220,479     18-24      F  Group D\n",
       "4    Jul  Jul-19    SA  Apple        52   15,644     18-24      M  Group A"
      ]
     },
     "execution_count": 13,
     "metadata": {},
     "output_type": "execute_result"
    }
   ],
   "source": [
    "df.head()"
   ]
  },
  {
   "cell_type": "code",
   "execution_count": 14,
   "id": "17e159ef",
   "metadata": {},
   "outputs": [],
   "source": [
    "#Seperating the year column\n",
    "df['year']= df['month'].str[4:7]"
   ]
  },
  {
   "cell_type": "code",
   "execution_count": 15,
   "id": "b04f4d87",
   "metadata": {},
   "outputs": [],
   "source": [
    "#changing the data type to an integer\n",
    "df['year'] = df['year'].astype('int')"
   ]
  },
  {
   "cell_type": "code",
   "execution_count": 16,
   "id": "dc698962",
   "metadata": {},
   "outputs": [],
   "source": [
    "#changing the positioning of the newly seperated column\n",
    "second_column = df.pop('year')"
   ]
  },
  {
   "cell_type": "code",
   "execution_count": 17,
   "id": "7de8381c",
   "metadata": {},
   "outputs": [],
   "source": [
    "df.insert(1,'year',second_column)"
   ]
  },
  {
   "cell_type": "code",
   "execution_count": 18,
   "id": "a9651f1a",
   "metadata": {},
   "outputs": [],
   "source": [
    "#dropping the original 'month' column\n",
    "df.drop('month', axis =1, inplace = True)"
   ]
  },
  {
   "cell_type": "code",
   "execution_count": 19,
   "id": "eb63619d",
   "metadata": {},
   "outputs": [
    {
     "data": {
      "text/html": [
       "<div>\n",
       "<style scoped>\n",
       "    .dataframe tbody tr th:only-of-type {\n",
       "        vertical-align: middle;\n",
       "    }\n",
       "\n",
       "    .dataframe tbody tr th {\n",
       "        vertical-align: top;\n",
       "    }\n",
       "\n",
       "    .dataframe thead th {\n",
       "        text-align: right;\n",
       "    }\n",
       "</style>\n",
       "<table border=\"1\" class=\"dataframe\">\n",
       "  <thead>\n",
       "    <tr style=\"text-align: right;\">\n",
       "      <th></th>\n",
       "      <th>months</th>\n",
       "      <th>year</th>\n",
       "      <th>state</th>\n",
       "      <th>brand</th>\n",
       "      <th>customers</th>\n",
       "      <th>value</th>\n",
       "      <th>age_group</th>\n",
       "      <th>gender</th>\n",
       "      <th>vip_band</th>\n",
       "    </tr>\n",
       "  </thead>\n",
       "  <tbody>\n",
       "    <tr>\n",
       "      <th>0</th>\n",
       "      <td>Jul</td>\n",
       "      <td>19</td>\n",
       "      <td>SA</td>\n",
       "      <td>Apple</td>\n",
       "      <td>256</td>\n",
       "      <td>50,623</td>\n",
       "      <td>18-24</td>\n",
       "      <td>F</td>\n",
       "      <td>Group A</td>\n",
       "    </tr>\n",
       "    <tr>\n",
       "      <th>1</th>\n",
       "      <td>Jul</td>\n",
       "      <td>19</td>\n",
       "      <td>SA</td>\n",
       "      <td>Apple</td>\n",
       "      <td>147</td>\n",
       "      <td>34,629</td>\n",
       "      <td>18-24</td>\n",
       "      <td>F</td>\n",
       "      <td>Group B</td>\n",
       "    </tr>\n",
       "    <tr>\n",
       "      <th>2</th>\n",
       "      <td>Jul</td>\n",
       "      <td>19</td>\n",
       "      <td>SA</td>\n",
       "      <td>Apple</td>\n",
       "      <td>36</td>\n",
       "      <td>85,034</td>\n",
       "      <td>18-24</td>\n",
       "      <td>F</td>\n",
       "      <td>Group C</td>\n",
       "    </tr>\n",
       "    <tr>\n",
       "      <th>3</th>\n",
       "      <td>Jul</td>\n",
       "      <td>19</td>\n",
       "      <td>SA</td>\n",
       "      <td>Apple</td>\n",
       "      <td>109</td>\n",
       "      <td>220,479</td>\n",
       "      <td>18-24</td>\n",
       "      <td>F</td>\n",
       "      <td>Group D</td>\n",
       "    </tr>\n",
       "    <tr>\n",
       "      <th>4</th>\n",
       "      <td>Jul</td>\n",
       "      <td>19</td>\n",
       "      <td>SA</td>\n",
       "      <td>Apple</td>\n",
       "      <td>52</td>\n",
       "      <td>15,644</td>\n",
       "      <td>18-24</td>\n",
       "      <td>M</td>\n",
       "      <td>Group A</td>\n",
       "    </tr>\n",
       "  </tbody>\n",
       "</table>\n",
       "</div>"
      ],
      "text/plain": [
       "  months  year state  brand customers    value age_group gender vip_band\n",
       "0    Jul    19    SA  Apple       256   50,623     18-24      F  Group A\n",
       "1    Jul    19    SA  Apple       147   34,629     18-24      F  Group B\n",
       "2    Jul    19    SA  Apple        36   85,034     18-24      F  Group C\n",
       "3    Jul    19    SA  Apple       109  220,479     18-24      F  Group D\n",
       "4    Jul    19    SA  Apple        52   15,644     18-24      M  Group A"
      ]
     },
     "execution_count": 19,
     "metadata": {},
     "output_type": "execute_result"
    }
   ],
   "source": [
    "df.head()"
   ]
  },
  {
   "cell_type": "markdown",
   "id": "180a5391",
   "metadata": {},
   "source": [
    "__Categorical Features__ "
   ]
  },
  {
   "cell_type": "markdown",
   "id": "4b561af5",
   "metadata": {},
   "source": [
    "Changed the following features to categorical data types. "
   ]
  },
  {
   "cell_type": "markdown",
   "id": "ee539af0",
   "metadata": {},
   "source": [
    "__Customers and Value features__"
   ]
  },
  {
   "cell_type": "code",
   "execution_count": 20,
   "id": "8ef39970",
   "metadata": {},
   "outputs": [],
   "source": [
    "df['state'] = df.state.astype('category')"
   ]
  },
  {
   "cell_type": "code",
   "execution_count": 21,
   "id": "2d5924c0",
   "metadata": {},
   "outputs": [],
   "source": [
    "df['brand'] = df.brand.astype('category')"
   ]
  },
  {
   "cell_type": "code",
   "execution_count": 22,
   "id": "be2cda8c",
   "metadata": {},
   "outputs": [],
   "source": [
    "df['age_group'] = df.age_group.astype('category')"
   ]
  },
  {
   "cell_type": "code",
   "execution_count": 23,
   "id": "67e9f885",
   "metadata": {},
   "outputs": [],
   "source": [
    "df['gender'] = df.gender.astype('category')"
   ]
  },
  {
   "cell_type": "code",
   "execution_count": 24,
   "id": "4f7e9f94",
   "metadata": {},
   "outputs": [],
   "source": [
    "df['vip_band'] = df.vip_band.astype('category')"
   ]
  },
  {
   "cell_type": "markdown",
   "id": "db657186",
   "metadata": {},
   "source": [
    "Changed the 'customers' and 'value' column observations to integers for further analysis. \n",
    "Noted some entries had commas, removed those first in order to turn the data type into a float for me to perform EDA moving forward. "
   ]
  },
  {
   "cell_type": "code",
   "execution_count": 25,
   "id": "71c24723",
   "metadata": {},
   "outputs": [],
   "source": [
    "#removing commas\n",
    "df['customers'] =[float(str(i).replace(',','')) for i in df['customers']]"
   ]
  },
  {
   "cell_type": "code",
   "execution_count": 26,
   "id": "2b465d09",
   "metadata": {},
   "outputs": [],
   "source": [
    "#changing data type to integers\n",
    "df['customers'] = df.customers.astype('int')"
   ]
  },
  {
   "cell_type": "code",
   "execution_count": 27,
   "id": "3da4d6ec",
   "metadata": {},
   "outputs": [],
   "source": [
    "#removing commas\n",
    "df['value'] =[float(str(i).replace(',','')) for i in df['value']]"
   ]
  },
  {
   "cell_type": "code",
   "execution_count": 28,
   "id": "67a2bfc2",
   "metadata": {},
   "outputs": [],
   "source": [
    "#changing data type to integers\n",
    "df['value'] = df.value.astype('int')"
   ]
  },
  {
   "cell_type": "code",
   "execution_count": 29,
   "id": "1952aaa6",
   "metadata": {},
   "outputs": [
    {
     "data": {
      "text/plain": [
       "months         object\n",
       "year            int64\n",
       "state        category\n",
       "brand        category\n",
       "customers       int64\n",
       "value           int64\n",
       "age_group    category\n",
       "gender       category\n",
       "vip_band     category\n",
       "dtype: object"
      ]
     },
     "execution_count": 29,
     "metadata": {},
     "output_type": "execute_result"
    }
   ],
   "source": [
    "df.dtypes"
   ]
  },
  {
   "cell_type": "code",
   "execution_count": 30,
   "id": "63d91fac",
   "metadata": {},
   "outputs": [],
   "source": [
    "#saving updated/cleaned csv for EDA in notebook 2\n",
    "df.to_csv('./data/Data_Analysis_Exercise_Cleaned.csv')"
   ]
  }
 ],
 "metadata": {
  "kernelspec": {
   "display_name": "Python 3",
   "language": "python",
   "name": "python3"
  },
  "language_info": {
   "codemirror_mode": {
    "name": "ipython",
    "version": 3
   },
   "file_extension": ".py",
   "mimetype": "text/x-python",
   "name": "python",
   "nbconvert_exporter": "python",
   "pygments_lexer": "ipython3",
   "version": "3.8.8"
  }
 },
 "nbformat": 4,
 "nbformat_minor": 5
}
